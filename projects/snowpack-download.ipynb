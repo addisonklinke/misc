{
 "cells": [
  {
   "cell_type": "markdown",
   "metadata": {},
   "source": [
    "# Import Modules\n",
    "\n",
    "This notebook is an extension to `snowpack.ipynb` which describes how the raw data was downloaded, formatted, and cleaned from the Department of Agriculture's API. Please see the main notebook for EDA, modeling, feature selection, etc."
   ]
  },
  {
   "cell_type": "code",
   "execution_count": 16,
   "metadata": {},
   "outputs": [],
   "source": [
    "import os, urllib, re\n",
    "import pandas as pd\n",
    "from tqdm import tqdm"
   ]
  },
  {
   "cell_type": "markdown",
   "metadata": {},
   "source": [
    "There are also some custom functions contained in `./functions/snowpack.py` that we will want to import"
   ]
  },
  {
   "cell_type": "code",
   "execution_count": 17,
   "metadata": {},
   "outputs": [],
   "source": [
    "import functions.snowpack as sp"
   ]
  },
  {
   "cell_type": "markdown",
   "metadata": {},
   "source": [
    "# Download Raw Data"
   ]
  },
  {
   "cell_type": "markdown",
   "metadata": {},
   "source": [
    "First we need to get the meta data of site names so we can query the Department of Agriculture's API. We'll also define the list of variables needed for the `eCodes` parameter. The abbreviations used by the API are:\n",
    "\n",
    "* T = temperature (average, maximum, minimum, observered), $^\\circ$F\n",
    "* PREC = yearly accumulated precipitation at start of day, inches\n",
    "* SNWD = snow depth at start of day, inches\n",
    "* WTEQ = Depth of water that would theoretically result if the entire snowpack were melted instantaneously, inches\n",
    "* STO:x = soil temperature observed at depth x inches, $^\\circ$F\n",
    "* SMS:x = volumetric soil moisture at depth x inches, percent"
   ]
  },
  {
   "cell_type": "code",
   "execution_count": 18,
   "metadata": {},
   "outputs": [],
   "source": [
    "os.chdir('../data')\n",
    "ntwk = pd.read_csv('snowpack-meta.csv')\n",
    "\n",
    "eCodes = ['TAVG', 'TMAX', 'TMIN', 'TOBS', 'PREC', 'SNWD', 'WTEQ','STO','SMS']\n",
    "eCodes = [s + '::value' for s in eCodes]\n",
    "eCodes = [s.replace('STO', 'STO:-2:value,STO:-8:value,STO:-20:value') for s in eCodes]\n",
    "eCodes = [s.replace('SMS', 'SMS:-2:value,SMS:-8:value,SMS:-20:value') for s in eCodes]\n",
    "eCodes = ','.join(eCodes)"
   ]
  },
  {
   "cell_type": "markdown",
   "metadata": {},
   "source": [
    "Now we've gathered all the information needed to read in data from website API for each row in snow-meta.csv. Due to the large amount of data, this will take a **long** time (~30 minutes) to run, so only do so if you actually want to get the raw data onto your computer."
   ]
  },
  {
   "cell_type": "code",
   "execution_count": null,
   "metadata": {},
   "outputs": [],
   "source": [
    "for row in tqdm(ntwk.itertuples()): \n",
    "    temp = sp.ReadSnowData(row.state, row.site_id, eCodes)\n",
    "    if temp is not None:\n",
    "        if row.Index != 1:\n",
    "            master = master.append(temp)\n",
    "        else:\n",
    "            master = temp\n",
    "    else:\n",
    "        continue"
   ]
  },
  {
   "cell_type": "markdown",
   "metadata": {},
   "source": [
    "# Data Cleaning and Export\n",
    "\n",
    "* Remove `NA`s\n",
    "* Rename columns to shorter abbreviations\n",
    "* Add meta data (latitude, longitude, elevation, etc.)\n",
    "* Parse dates into additional formats"
   ]
  },
  {
   "cell_type": "code",
   "execution_count": null,
   "metadata": {},
   "outputs": [],
   "source": [
    "clean = master.dropna()\n",
    "clean.rename(columns = {'temp avg (degf)':'tAvg',\n",
    "                        'temp max (degf)':'tMax',\n",
    "                        'temp min (degf)':'tMin',\n",
    "                        'temp  (degf)':'t',\n",
    "                        'precip accum (in)':'precipAccum',\n",
    "                        'snow  (in)':'snow',\n",
    "                        'snow water equiv (in)':'waterEquiv',\n",
    "                        'soil temp  2in (degf)':'tSoil2',\n",
    "                        'soil temp  8in (degf)':'tSoil8'}, inplace=True)\n",
    "meta = ntwk[['state', 'site_name', 'latitude', 'longitude', 'elev_ft', 'county', 'huc', 'site_id']]\n",
    "meta.rename(columns = {'site_name':'name', \n",
    "                       'latitude':'lat', \n",
    "                       'longitude':'long', \n",
    "                       'elev_ft':'elev', \n",
    "                       'site_id':'id'}, inplace=True)\n",
    "clean = pd.merge(clean, meta)\n",
    "clean = clean[clean['snow'].notnull()]\n",
    "clean.insert(loc=0, column='md',    value=clean.date.str.extract(r'((?<=-)\\d{2}-\\d{2})', expand=False))\n",
    "clean.insert(loc=0, column='day',   value=clean.date.str.extract(r'((?<=-)\\d{2}$)',      expand=False))\n",
    "clean.insert(loc=0, column='month', value=clean.date.str.extract(r'((?<=-)\\d{2}(?=-))',  expand=False))\n",
    "clean.insert(loc=0, column='year',  value=clean.date.str.extract(r'(\\d{4}(?=-))',        expand=False))"
   ]
  },
  {
   "cell_type": "markdown",
   "metadata": {},
   "source": [
    "Export a copy of both the original and cleaned data"
   ]
  },
  {
   "cell_type": "code",
   "execution_count": null,
   "metadata": {},
   "outputs": [],
   "source": [
    "master.to('snow-raw.csv', index=False)\n",
    "clean.to_csv('snow-clean.csv', index=False)"
   ]
  }
 ],
 "metadata": {
  "kernelspec": {
   "display_name": "Python 3",
   "language": "python",
   "name": "python3"
  },
  "language_info": {
   "codemirror_mode": {
    "name": "ipython",
    "version": 3
   },
   "file_extension": ".py",
   "mimetype": "text/x-python",
   "name": "python",
   "nbconvert_exporter": "python",
   "pygments_lexer": "ipython3",
   "version": "3.6.5"
  },
  "toc": {
   "base_numbering": 1,
   "nav_menu": {},
   "number_sections": true,
   "sideBar": true,
   "skip_h1_title": false,
   "title_cell": "Table of Contents",
   "title_sidebar": "Contents",
   "toc_cell": false,
   "toc_position": {},
   "toc_section_display": true,
   "toc_window_display": false
  }
 },
 "nbformat": 4,
 "nbformat_minor": 2
}
